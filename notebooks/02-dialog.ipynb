{
 "cells": [
  {
   "cell_type": "code",
   "execution_count": 1,
   "metadata": {
    "collapsed": false
   },
   "outputs": [
    {
     "name": "stdout",
     "output_type": "stream",
     "text": [
      "dialog_welcome {'condition': '#saudacao', 'output': {'text': 'Olá, eu sou o David!'}}\n",
      "dialog_anythinelse {'condition': 'true', 'output': {'text': 'Desculpe, não entendi! Pode falar de outra forma?'}}\n",
      "dialog_nodes [{'condition': '#saudacao', 'output': {'text': 'Olá, eu sou o David!'}}, {'condition': '#despedida', 'output': {'text': 'Muito obrigado pela atenção! Precisando estou por aqui!'}}, {'condition': '#saldo', 'output': {'text': 'Seu saldo é R$ #.###,##!'}}, {'condition': '#extrato', 'output': {'text': 'Segue seu extrato!!!'}}, {'condition': '#recarregar-celular', 'output': {'text': 'Celular recarregado!'}}, {'condition': '#pagar-receber', 'output': {'text': 'Segue o link!'}}, {'condition': '#transferir', 'output': {'text': 'Dinheiro transferido!'}}, {'condition': '#horario-agencias', 'output': {'text': 'As agências funcionam da 11h as 16!'}}, {'condition': 'true', 'output': {'text': 'Desculpe, não entendi! Pode falar de outra forma?'}}]\n"
     ]
    }
   ],
   "source": [
    "import json\n",
    "with open('./input/dialog.json', encoding='utf-8') as f:\n",
    "    dialog_nodes = json.load(f)\n",
    "\n",
    "dialog_welcome = dialog_nodes[0]\n",
    "\n",
    "dialog_anythinelse = dialog_nodes[len(dialog_nodes) - 1]\n",
    "\n",
    "print(\"dialog_welcome\", dialog_welcome);\n",
    "print(\"dialog_anythinelse\", dialog_anythinelse);\n",
    "print(\"dialog_nodes\", dialog_nodes);"
   ]
  },
  {
   "cell_type": "code",
   "execution_count": 2,
   "metadata": {
    "collapsed": false,
    "deletable": true,
    "editable": true
   },
   "outputs": [],
   "source": [
    "stopwords = set(line.strip() for line in open('./input/stopwords.txt', 'r', encoding='utf-8'))"
   ]
  },
  {
   "cell_type": "code",
   "execution_count": 3,
   "metadata": {
    "collapsed": false,
    "deletable": true,
    "editable": true
   },
   "outputs": [
    {
     "name": "stdout",
     "output_type": "stream",
     "text": [
      "['saldo']\n"
     ]
    }
   ],
   "source": [
    "import re\n",
    "\n",
    "NON_CONTENT = r\"[^\\w\\d\\s]\"\n",
    "def tokenize(sentence):\n",
    "    #remove non content\n",
    "    sentence = re.sub(NON_CONTENT, \"\", sentence)\n",
    "    #lower\n",
    "    sentence = sentence.lower();\n",
    "    \n",
    "    #split\n",
    "    tokens = sentence.split(\" \");\n",
    "        \n",
    "    for sw in stopwords:\n",
    "        try:\n",
    "            tokens.remove(sw); \n",
    "        except ValueError:\n",
    "            pass\n",
    "    \n",
    "    return tokens;\n",
    "\n",
    "print(tokenize(\"Qual é o meu saldo?\"))"
   ]
  },
  {
   "cell_type": "code",
   "execution_count": 4,
   "metadata": {
    "collapsed": false
   },
   "outputs": [
    {
     "name": "stdout",
     "output_type": "stream",
     "text": [
      "{'recarregar-celular': {'Quero recarregar meu celular!': {'tokens': {'celular': 1, 'quero': 1, 'recarregar': 1}, 'total': 3}}, 'pagar-receber': {'link pra receber': {'tokens': {'receber': 1, 'link': 1, 'pra': 1}, 'total': 3}}, 'extrato': {'Extrato da conta': {'tokens': {'conta': 1, 'extrato': 1}, 'total': 2}, 'Extrato da conta corrente': {'tokens': {'corrente': 1, 'conta': 1, 'extrato': 1}, 'total': 3}}, 'horario-agencias': {'Qual é o horário de funcionamento das agências?': {'tokens': {'das': 1, 'agências': 1, 'funcionamento': 1, 'de': 1, 'horário': 1}, 'total': 5}}, 'despedida': {'Até mais!': {'tokens': {'mais': 1, 'até': 1}, 'total': 2}, 'tchau': {'tokens': {'tchau': 1}, 'total': 1}}, 'transferir': {'Transferir dinheiro': {'tokens': {'transferir': 1, 'dinheiro': 1}, 'total': 2}}, 'saldo': {'Quantas pilas eu tenho?': {'tokens': {'pilas': 1, 'tenho': 1}, 'total': 2}, 'Quanto tenho na conta?': {'tokens': {'conta': 1, 'tenho': 1}, 'total': 2}, 'Qual é meu saldo?': {'tokens': {'saldo': 1}, 'total': 1}, 'Saldo da conta corrente': {'tokens': {'corrente': 1, 'conta': 1, 'saldo': 1}, 'total': 3}, 'Qual é o saldo da minha conta?': {'tokens': {'minha': 1, 'conta': 1, 'saldo': 1}, 'total': 3}}, 'saudacao': {'Oi': {'tokens': {'oi': 1}, 'total': 1}, 'Olá': {'tokens': {'olá': 1}, 'total': 1}}}\n"
     ]
    }
   ],
   "source": [
    "import json\n",
    "with open('./output/intent_model.json', encoding='utf-8') as f:\n",
    "    intent_model = json.load(f)\n",
    "print(intent_model);"
   ]
  },
  {
   "cell_type": "code",
   "execution_count": 5,
   "metadata": {
    "collapsed": false,
    "deletable": true,
    "editable": true
   },
   "outputs": [
    {
     "name": "stdout",
     "output_type": "stream",
     "text": [
      "[{'confidence': 1.0, 'intent': 'saldo'}]\n"
     ]
    }
   ],
   "source": [
    "def classify(input):\n",
    "    tokens = tokenize(input);\n",
    "    #print (\"tokens\", tokens);\n",
    "    intents = {}\n",
    "    for intent, samples in intent_model.items():\n",
    "        intents[intent] = 0\n",
    "        for s, smeta in samples.items():\n",
    "            brutal_score = 0\n",
    "            stokens = smeta[\"tokens\"]\n",
    "            for t in tokens:\n",
    "                if t in stokens:\n",
    "                    brutal_score += stokens[t]\n",
    "            score = brutal_score / smeta[\"total\"]\n",
    "            if intents[intent] < score:\n",
    "                intents[intent] = score\n",
    "            \n",
    "    intents = [{\n",
    "        \"intent\": intent,\n",
    "        \"confidence\": intents[intent]\n",
    "    } for intent in sorted(intents, key=intents.__getitem__, reverse = True)]\n",
    "    \n",
    "    intents = list(filter(lambda i: i[\"confidence\"] > 0, intents))\n",
    "    \n",
    "    return intents[:10];\n",
    "\n",
    "print(classify(\"Qual meu saldo?\"))"
   ]
  },
  {
   "cell_type": "code",
   "execution_count": 6,
   "metadata": {
    "collapsed": true,
    "deletable": true,
    "editable": true
   },
   "outputs": [],
   "source": [
    "def nlp(input):\n",
    "    return [];"
   ]
  },
  {
   "cell_type": "code",
   "execution_count": 7,
   "metadata": {
    "collapsed": false,
    "deletable": true,
    "editable": true
   },
   "outputs": [],
   "source": [
    "def evalCondition(condition, context, intent, entities):\n",
    "    return condition == '#' + intent;"
   ]
  },
  {
   "cell_type": "code",
   "execution_count": 8,
   "metadata": {
    "collapsed": true,
    "deletable": true,
    "editable": true
   },
   "outputs": [],
   "source": [
    "def dialog(input, context, intents, entities):\n",
    "    if input == \"\":\n",
    "        return dialog_welcome;\n",
    "    \n",
    "    if len(intents) > 0:\n",
    "        intent = intents[0][\"intent\"];\n",
    "        for dialog_node in dialog_nodes:\n",
    "            if evalCondition(dialog_node[\"condition\"], context, intent, entities):\n",
    "                return dialog_node;\n",
    "    \n",
    "    return dialog_anythinelse;"
   ]
  },
  {
   "cell_type": "code",
   "execution_count": 9,
   "metadata": {
    "collapsed": true,
    "deletable": true,
    "editable": true
   },
   "outputs": [],
   "source": [
    "def respond(input, context = {}):\n",
    "    intents = classify(input)\n",
    "    entities = nlp(input)\n",
    "    #print(\"intents\", intents)\n",
    "    dialog_node = dialog(input, context, intents, entities)\n",
    "    return {\n",
    "        \"context\": context,\n",
    "        \"intents\": intents,\n",
    "        \"entities\": entities,\n",
    "        \"output\": dialog_node[\"output\"]\n",
    "    }"
   ]
  },
  {
   "cell_type": "code",
   "execution_count": 10,
   "metadata": {
    "collapsed": false,
    "deletable": true,
    "editable": true
   },
   "outputs": [
    {
     "name": "stdout",
     "output_type": "stream",
     "text": [
      "\n",
      "input:    >>  Olá, eu sou o David!\n",
      "\n",
      "input:  Oi  >>  Olá, eu sou o David!\n",
      "\n",
      "input:  Qual meu saldo?  >>  Seu saldo é R$ #.###,##!\n",
      "\n",
      "input:  Quanto tenho na conta?  >>  Seu saldo é R$ #.###,##!\n",
      "\n",
      "input:  Extrato da conta  >>  Segue seu extrato!!!\n",
      "\n",
      "input:  link pra receber  >>  Segue o link!\n",
      "\n",
      "input:  Horário das agências  >>  As agências funcionam da 11h as 16!\n",
      "\n",
      "input:  recarregar celular  >>  Celular recarregado!\n",
      "\n",
      "input:  Então tchau  >>  Muito obrigado pela atenção! Precisando estou por aqui!\n"
     ]
    }
   ],
   "source": [
    "def test_respond(input):\n",
    "    resp = respond(input);\n",
    "    #print(\"\\n\\nresp\", resp);\n",
    "    print(\"\\ninput: \", input, \" >> \", resp[\"output\"][\"text\"]);\n",
    "\n",
    "test_respond(\"\");\n",
    "test_respond(\"Oi\");\n",
    "test_respond(\"Qual meu saldo?\");\n",
    "test_respond(\"Quanto tenho na conta?\");\n",
    "test_respond(\"Extrato da conta\");\n",
    "test_respond(\"link pra receber\");\n",
    "test_respond(\"Horário das agências\");\n",
    "test_respond(\"recarregar celular\");\n",
    "test_respond(\"Então tchau\");"
   ]
  }
 ],
 "metadata": {
  "kernelspec": {
   "display_name": "Python 3",
   "language": "python",
   "name": "python3"
  },
  "language_info": {
   "codemirror_mode": {
    "name": "ipython",
    "version": 3
   },
   "file_extension": ".py",
   "mimetype": "text/x-python",
   "name": "python",
   "nbconvert_exporter": "python",
   "pygments_lexer": "ipython3",
   "version": "3.4.3"
  }
 },
 "nbformat": 4,
 "nbformat_minor": 2
}
