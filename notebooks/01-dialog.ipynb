{
 "cells": [
  {
   "cell_type": "code",
   "execution_count": 1,
   "metadata": {
    "collapsed": false,
    "deletable": true,
    "editable": true
   },
   "outputs": [
    {
     "name": "stdout",
     "output_type": "stream",
     "text": [
      "{'intents': {'transferir': ['Transferir dinheiro'], 'saldo': ['Qual é meu saldo?', 'Quanto tenho na conta?', 'Saldo da conta corrente', 'Quantas pilas eu tenho?', 'Qual é o saldo da minha conta?'], 'pagar-receber': ['link pra receber'], 'despedida': ['tchau', 'Até mais!'], 'recarregar-celular': ['Quero recarregar meu celular!'], 'saudacao': ['Oi', 'Olá'], 'extrato': ['Extrato da conta', 'Extrato da conta corrente']}}\n"
     ]
    }
   ],
   "source": [
    "import json\n",
    "with open('./input/know.json', encoding='utf-8') as f:\n",
    "    know = json.load(f)\n",
    "print(know);"
   ]
  },
  {
   "cell_type": "code",
   "execution_count": 2,
   "metadata": {
    "collapsed": false,
    "deletable": true,
    "editable": true
   },
   "outputs": [
    {
     "name": "stdout",
     "output_type": "stream",
     "text": [
      "dialog_welcome {'condition': '#saudacao', 'output': {'text': 'Olá, eu sou o David!'}}\n",
      "dialog_anythinelse {'condition': 'true', 'output': {'text': 'Desculpe, não entendi! Pode falar de outra forma?'}}\n",
      "dialog_nodes [{'condition': '#saudacao', 'output': {'text': 'Olá, eu sou o David!'}}, {'condition': '#despedida', 'output': {'text': 'Muito obrigado pela atenção! Precisando estou por aqui!'}}, {'condition': '#saldo', 'output': {'text': 'Seu saldo é R$ #.###,##!'}}, {'condition': '#extrato', 'output': {'text': 'Segue seu extrato!!!'}}, {'condition': '#recarregar-celular', 'output': {'text': 'Celular recarregado!'}}, {'condition': '#pagar-receber', 'output': {'text': 'Segue o link!'}}, {'condition': '#transferir', 'output': {'text': 'Dinheiro transferido!'}}, {'condition': 'true', 'output': {'text': 'Desculpe, não entendi! Pode falar de outra forma?'}}]\n"
     ]
    }
   ],
   "source": [
    "import json\n",
    "with open('./input/dialog.json', encoding='utf-8') as f:\n",
    "    dialog_nodes = json.load(f)\n",
    "\n",
    "dialog_welcome = dialog_nodes[0]\n",
    "\n",
    "dialog_anythinelse = dialog_nodes[len(dialog_nodes) - 1]\n",
    "\n",
    "print(\"dialog_welcome\", dialog_welcome);\n",
    "print(\"dialog_anythinelse\", dialog_anythinelse);\n",
    "print(\"dialog_nodes\", dialog_nodes);"
   ]
  },
  {
   "cell_type": "code",
   "execution_count": 3,
   "metadata": {
    "collapsed": false,
    "deletable": true,
    "editable": true
   },
   "outputs": [],
   "source": [
    "stopwords = set(line.strip() for line in open('stopwords.txt', 'r', encoding='utf-8'))"
   ]
  },
  {
   "cell_type": "code",
   "execution_count": 4,
   "metadata": {
    "collapsed": false,
    "deletable": true,
    "editable": true
   },
   "outputs": [
    {
     "name": "stdout",
     "output_type": "stream",
     "text": [
      "['saldo']\n"
     ]
    }
   ],
   "source": [
    "import re\n",
    "\n",
    "NON_CONTENT = r\"[^\\w\\d\\s]\"\n",
    "def tokenize(sentence):\n",
    "    #remove non content\n",
    "    sentence = re.sub(NON_CONTENT, \"\", sentence)\n",
    "    #lower\n",
    "    sentence = sentence.lower();\n",
    "    \n",
    "    #split\n",
    "    tokens = sentence.split(\" \");\n",
    "        \n",
    "    for sw in stopwords:\n",
    "        try:\n",
    "            tokens.remove(sw); \n",
    "        except ValueError:\n",
    "            pass\n",
    "    \n",
    "    return tokens;\n",
    "\n",
    "print(tokenize(\"Qual é o meu saldo?\"))"
   ]
  },
  {
   "cell_type": "code",
   "execution_count": 12,
   "metadata": {
    "collapsed": false,
    "deletable": true,
    "editable": true
   },
   "outputs": [
    {
     "name": "stdout",
     "output_type": "stream",
     "text": [
      "intent_model: {'transferir': {'Transferir dinheiro': {'tokens': {'transferir': 1, 'dinheiro': 1}, 'total': 2}}, 'saldo': {'Qual é o saldo da minha conta?': {'tokens': {'saldo': 1, 'conta': 1, 'minha': 1}, 'total': 3}, 'Qual é meu saldo?': {'tokens': {'saldo': 1}, 'total': 1}, 'Quantas pilas eu tenho?': {'tokens': {'tenho': 1, 'pilas': 1}, 'total': 2}, 'Saldo da conta corrente': {'tokens': {'saldo': 1, 'corrente': 1, 'conta': 1}, 'total': 3}, 'Quanto tenho na conta?': {'tokens': {'tenho': 1, 'conta': 1}, 'total': 2}}, 'pagar-receber': {'link pra receber': {'tokens': {'link': 1, 'pra': 1, 'receber': 1}, 'total': 3}}, 'despedida': {'Até mais!': {'tokens': {'mais': 1, 'até': 1}, 'total': 2}, 'tchau': {'tokens': {'tchau': 1}, 'total': 1}}, 'recarregar-celular': {'Quero recarregar meu celular!': {'tokens': {'quero': 1, 'recarregar': 1, 'celular': 1}, 'total': 3}}, 'saudacao': {'Olá': {'tokens': {'olá': 1}, 'total': 1}, 'Oi': {'tokens': {'oi': 1}, 'total': 1}}, 'extrato': {'Extrato da conta corrente': {'tokens': {'extrato': 1, 'corrente': 1, 'conta': 1}, 'total': 3}, 'Extrato da conta': {'tokens': {'extrato': 1, 'conta': 1}, 'total': 2}}}\n"
     ]
    }
   ],
   "source": [
    "intent_model = {}\n",
    "\n",
    "for intent, samples in know[\"intents\"].items():\n",
    "    intent_model[intent] = {}\n",
    "    for sample in samples:\n",
    "        intent_model[intent][sample] = {\n",
    "            \"total\" : 0,\n",
    "            \"tokens\" : {}\n",
    "        }\n",
    "        for t in tokenize(sample):\n",
    "            intent_model[intent][sample][\"total\"] += 1;\n",
    "            if t in intent_model[intent][sample][\"tokens\"]:\n",
    "                intent_model[intent][sample][\"tokens\"][t] += 1;\n",
    "            else:\n",
    "                intent_model[intent][sample][\"tokens\"][t] = 1;\n",
    "\n",
    "import json\n",
    "with open('./output/intent_model.json', 'w', encoding='utf-8') as outfile:\n",
    "    json.dump(intent_model, outfile)\n",
    "    \n",
    "print(\"intent_model:\", intent_model);    "
   ]
  },
  {
   "cell_type": "code",
   "execution_count": 6,
   "metadata": {
    "collapsed": false,
    "deletable": true,
    "editable": true
   },
   "outputs": [
    {
     "name": "stdout",
     "output_type": "stream",
     "text": [
      "[{'confidence': 1.0, 'intent': 'saldo'}]\n"
     ]
    }
   ],
   "source": [
    "def classify(input):\n",
    "    tokens = tokenize(input);\n",
    "    #print (\"tokens\", tokens);\n",
    "    intents = {}\n",
    "    for intent, samples in intent_model.items():\n",
    "        intents[intent] = 0\n",
    "        for s, smeta in samples.items():\n",
    "            brutal_score = 0\n",
    "            stokens = smeta[\"tokens\"]\n",
    "            for t in tokens:\n",
    "                if t in stokens:\n",
    "                    brutal_score += stokens[t]\n",
    "            score = brutal_score / smeta[\"total\"]\n",
    "            if intents[intent] < score:\n",
    "                intents[intent] = score\n",
    "            \n",
    "    intents = [{\n",
    "        \"intent\": intent,\n",
    "        \"confidence\": intents[intent]\n",
    "    } for intent in sorted(intents, key=intents.__getitem__, reverse = True)]\n",
    "    \n",
    "    intents = list(filter(lambda i: i[\"confidence\"] > 0, intents))\n",
    "    \n",
    "    return intents[:10];\n",
    "\n",
    "print(classify(\"Qual meu saldo?\"))"
   ]
  },
  {
   "cell_type": "code",
   "execution_count": 7,
   "metadata": {
    "collapsed": true,
    "deletable": true,
    "editable": true
   },
   "outputs": [],
   "source": [
    "def nlp(input):\n",
    "    return [];"
   ]
  },
  {
   "cell_type": "code",
   "execution_count": 8,
   "metadata": {
    "collapsed": false,
    "deletable": true,
    "editable": true
   },
   "outputs": [],
   "source": [
    "def evalCondition(condition, context, intent, entities):\n",
    "    return condition == '#' + intent;"
   ]
  },
  {
   "cell_type": "code",
   "execution_count": 9,
   "metadata": {
    "collapsed": true,
    "deletable": true,
    "editable": true
   },
   "outputs": [],
   "source": [
    "def dialog(input, context, intents, entities):\n",
    "    if input == \"\":\n",
    "        return dialog_welcome;\n",
    "    \n",
    "    if len(intents) > 0:\n",
    "        intent = intents[0][\"intent\"];\n",
    "        for dialog_node in dialog_nodes:\n",
    "            if evalCondition(dialog_node[\"condition\"], context, intent, entities):\n",
    "                return dialog_node;\n",
    "    \n",
    "    return dialog_anythinelse;"
   ]
  },
  {
   "cell_type": "code",
   "execution_count": 10,
   "metadata": {
    "collapsed": true,
    "deletable": true,
    "editable": true
   },
   "outputs": [],
   "source": [
    "def respond(input, context = {}):\n",
    "    intents = classify(input)\n",
    "    entities = nlp(input)\n",
    "    #print(\"intents\", intents)\n",
    "    dialog_node = dialog(input, context, intents, entities)\n",
    "    return {\n",
    "        \"context\": context,\n",
    "        \"intents\": intents,\n",
    "        \"entities\": entities,\n",
    "        \"output\": dialog_node[\"output\"]\n",
    "    }"
   ]
  },
  {
   "cell_type": "code",
   "execution_count": 11,
   "metadata": {
    "collapsed": false,
    "deletable": true,
    "editable": true
   },
   "outputs": [
    {
     "name": "stdout",
     "output_type": "stream",
     "text": [
      "\n",
      "input:    >>  Olá, eu sou o David!\n",
      "\n",
      "input:  Oi  >>  Olá, eu sou o David!\n",
      "\n",
      "input:  Qual meu saldo?  >>  Seu saldo é R$ #.###,##!\n",
      "\n",
      "input:  Quanto tenho na conta?  >>  Seu saldo é R$ #.###,##!\n",
      "\n",
      "input:  Extrato da conta  >>  Segue seu extrato!!!\n",
      "\n",
      "input:  link pra receber  >>  Segue o link!\n",
      "\n",
      "input:  Horário das agências  >>  Desculpe, não entendi! Pode falar de outra forma?\n",
      "\n",
      "input:  recarregar celular  >>  Celular recarregado!\n",
      "\n",
      "input:  Então tchau  >>  Muito obrigado pela atenção! Precisando estou por aqui!\n"
     ]
    }
   ],
   "source": [
    "def test_respond(input):\n",
    "    resp = respond(input);\n",
    "    #print(\"\\n\\nresp\", resp);\n",
    "    print(\"\\ninput: \", input, \" >> \", resp[\"output\"][\"text\"]);\n",
    "\n",
    "test_respond(\"\");\n",
    "test_respond(\"Oi\");\n",
    "test_respond(\"Qual meu saldo?\");\n",
    "test_respond(\"Quanto tenho na conta?\");\n",
    "test_respond(\"Extrato da conta\");\n",
    "test_respond(\"link pra receber\");\n",
    "test_respond(\"Horário das agências\");\n",
    "test_respond(\"recarregar celular\");\n",
    "test_respond(\"Então tchau\");"
   ]
  }
 ],
 "metadata": {
  "kernelspec": {
   "display_name": "Python 3",
   "language": "python",
   "name": "python3"
  },
  "language_info": {
   "codemirror_mode": {
    "name": "ipython",
    "version": 3
   },
   "file_extension": ".py",
   "mimetype": "text/x-python",
   "name": "python",
   "nbconvert_exporter": "python",
   "pygments_lexer": "ipython3",
   "version": "3.4.3"
  }
 },
 "nbformat": 4,
 "nbformat_minor": 2
}
