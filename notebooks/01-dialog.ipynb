{
 "cells": [
  {
   "cell_type": "code",
   "execution_count": 1,
   "metadata": {
    "collapsed": false,
    "deletable": true,
    "editable": true
   },
   "outputs": [
    {
     "name": "stdout",
     "output_type": "stream",
     "text": [
      "{'intents': {'transferir': ['Transferir dinheiro'], 'saldo': ['Qual é meu saldo?', 'Quanto tenho na conta?', 'Saldo da conta corrente', 'Quantas pilas eu tenho?', 'Qual é o saldo da minha conta?'], 'pagar-receber': ['link pra receber'], 'extrato': ['Extrato da conta', 'Extrato da conta corrente'], 'despedida': ['tchau', 'Até mais!'], 'saudacao': ['Oi', 'Olá'], 'recarregar-celular': ['Quero recarregar meu celular!']}}\n"
     ]
    }
   ],
   "source": [
    "know = {\n",
    "    \"intents\" : {\n",
    "        \"saudacao\" : [\n",
    "            \"Oi\", \"Olá\"\n",
    "        ],\n",
    "        \"despedida\" : [\n",
    "            \"tchau\", \"Até mais!\"\n",
    "        ],\n",
    "        \"saldo\" : [\n",
    "            \"Qual é meu saldo?\", \"Quanto tenho na conta?\", \"Saldo da conta corrente\", \"Quantas pilas eu tenho?\", \"Qual é o saldo da minha conta?\"\n",
    "        ],\n",
    "        \"extrato\" : [\n",
    "            \"Extrato da conta\", \"Extrato da conta corrente\"\n",
    "        ],\n",
    "        \"recarregar-celular\" : [\n",
    "            \"Quero recarregar meu celular!\"\n",
    "        ],\n",
    "        \"pagar-receber\" : [\n",
    "            \"link pra receber\"\n",
    "        ],\n",
    "        \"transferir\" : [\n",
    "            \"Transferir dinheiro\"\n",
    "        ]\n",
    "    }\n",
    "}\n",
    "print(know);"
   ]
  },
  {
   "cell_type": "code",
   "execution_count": 2,
   "metadata": {
    "collapsed": false,
    "deletable": true,
    "editable": true
   },
   "outputs": [
    {
     "name": "stdout",
     "output_type": "stream",
     "text": [
      "[{'condition': '#saudacao', 'output': {'text': 'Olá, eu sou o David!'}}, {'condition': '#despedida', 'output': {'text': 'Muito obrigado pela atenção! Precisando estou por aqui!'}}, {'condition': '#saldo', 'output': {'text': 'Seu saldo é R$ #.###,##!'}}, {'condition': '#extrato', 'output': {'text': 'Segue seu extrato!!!'}}, {'condition': '#recarregar-celular', 'output': {'text': 'Celular recarregado!'}}, {'condition': '#pagar-receber', 'output': {'text': 'Segue o link!'}}, {'condition': '#transferir', 'output': {'text': 'Dinheiro transferido!'}}, {'condition': 'true', 'output': {'text': 'Desculpe, não entendi! Pode falar de outra forma?'}}]\n"
     ]
    }
   ],
   "source": [
    "dialog_welcome = {\n",
    "    \"condition\": \"#saudacao\",\n",
    "    \"output\": {\n",
    "        \"text\": \"Olá, eu sou o David!\"\n",
    "    }\n",
    "}\n",
    "\n",
    "dialog_nodes = [dialog_welcome,{\n",
    "    \"condition\": \"#despedida\",\n",
    "    \"output\": {\n",
    "        \"text\": \"Muito obrigado pela atenção! Precisando estou por aqui!\"\n",
    "    } \n",
    "}, {\n",
    "    \"condition\": \"#saldo\",\n",
    "    \"output\": {\n",
    "        \"text\": \"Seu saldo é R$ #.###,##!\"\n",
    "    } \n",
    "},{\n",
    "    \"condition\": \"#extrato\",\n",
    "    \"output\": {\n",
    "        \"text\": \"Segue seu extrato!!!\"\n",
    "    } \n",
    "},{\n",
    "    \"condition\": \"#recarregar-celular\",\n",
    "    \"output\": {\n",
    "        \"text\": \"Celular recarregado!\"\n",
    "    } \n",
    "},{\n",
    "    \"condition\": \"#pagar-receber\",\n",
    "    \"output\": {\n",
    "        \"text\": \"Segue o link!\"\n",
    "    } \n",
    "},{\n",
    "    \"condition\": \"#transferir\",\n",
    "    \"output\": {\n",
    "        \"text\": \"Dinheiro transferido!\"\n",
    "    } \n",
    "}]\n",
    "\n",
    "dialog_anythinelse = { \n",
    "    \"condition\" : \"true\",\n",
    "    \"output\": {\n",
    "        \"text\": \"Desculpe, não entendi! Pode falar de outra forma?\"\n",
    "    }\n",
    "}\n",
    "\n",
    "dialog_nodes.append(dialog_anythinelse)\n",
    "\n",
    "print(dialog_nodes);"
   ]
  },
  {
   "cell_type": "code",
   "execution_count": 3,
   "metadata": {
    "collapsed": false,
    "deletable": true,
    "editable": true
   },
   "outputs": [],
   "source": [
    "stopwords = set(line.strip() for line in open('stopwords.txt', 'r', encoding='utf-8'))"
   ]
  },
  {
   "cell_type": "code",
   "execution_count": 4,
   "metadata": {
    "collapsed": false,
    "deletable": true,
    "editable": true
   },
   "outputs": [
    {
     "name": "stdout",
     "output_type": "stream",
     "text": [
      "['saldo']\n"
     ]
    }
   ],
   "source": [
    "import re\n",
    "\n",
    "NON_CONTENT = r\"[^\\w\\d\\s]\"\n",
    "def tokenize(sentence):\n",
    "    #remove non content\n",
    "    sentence = re.sub(NON_CONTENT, \"\", sentence)\n",
    "    #lower\n",
    "    sentence = sentence.lower();\n",
    "    \n",
    "    #split\n",
    "    tokens = sentence.split(\" \");\n",
    "        \n",
    "    for sw in stopwords:\n",
    "        try:\n",
    "            tokens.remove(sw); \n",
    "        except ValueError:\n",
    "            pass\n",
    "    \n",
    "    return tokens;\n",
    "\n",
    "print(tokenize(\"Qual é o meu saldo?\"))"
   ]
  },
  {
   "cell_type": "code",
   "execution_count": 5,
   "metadata": {
    "collapsed": false,
    "deletable": true,
    "editable": true
   },
   "outputs": [
    {
     "name": "stdout",
     "output_type": "stream",
     "text": [
      "intent_model: {'transferir': {'Transferir dinheiro': {'total': 2, 'tokens': {'transferir': 1, 'dinheiro': 1}}}, 'saldo': {'Quanto tenho na conta?': {'total': 2, 'tokens': {'tenho': 1, 'conta': 1}}, 'Saldo da conta corrente': {'total': 3, 'tokens': {'conta': 1, 'saldo': 1, 'corrente': 1}}, 'Qual é meu saldo?': {'total': 1, 'tokens': {'saldo': 1}}, 'Quantas pilas eu tenho?': {'total': 2, 'tokens': {'pilas': 1, 'tenho': 1}}, 'Qual é o saldo da minha conta?': {'total': 3, 'tokens': {'minha': 1, 'saldo': 1, 'conta': 1}}}, 'pagar-receber': {'link pra receber': {'total': 3, 'tokens': {'pra': 1, 'link': 1, 'receber': 1}}}, 'extrato': {'Extrato da conta corrente': {'total': 3, 'tokens': {'conta': 1, 'corrente': 1, 'extrato': 1}}, 'Extrato da conta': {'total': 2, 'tokens': {'conta': 1, 'extrato': 1}}}, 'despedida': {'Até mais!': {'total': 2, 'tokens': {'mais': 1, 'até': 1}}, 'tchau': {'total': 1, 'tokens': {'tchau': 1}}}, 'saudacao': {'Oi': {'total': 1, 'tokens': {'oi': 1}}, 'Olá': {'total': 1, 'tokens': {'olá': 1}}}, 'recarregar-celular': {'Quero recarregar meu celular!': {'total': 3, 'tokens': {'celular': 1, 'recarregar': 1, 'quero': 1}}}}\n"
     ]
    }
   ],
   "source": [
    "intent_model = {}\n",
    "\n",
    "for intent, samples in know[\"intents\"].items():\n",
    "    intent_model[intent] = {}\n",
    "    for sample in samples:\n",
    "        intent_model[intent][sample] = {\n",
    "            \"total\" : 0,\n",
    "            \"tokens\" : {}\n",
    "        }\n",
    "        for t in tokenize(sample):\n",
    "            intent_model[intent][sample][\"total\"] += 1;\n",
    "            if t in intent_model[intent][sample][\"tokens\"]:\n",
    "                intent_model[intent][sample][\"tokens\"][t] += 1;\n",
    "            else:\n",
    "                intent_model[intent][sample][\"tokens\"][t] = 1;\n",
    "    \n",
    "print(\"intent_model:\", intent_model);    "
   ]
  },
  {
   "cell_type": "code",
   "execution_count": 6,
   "metadata": {
    "collapsed": false,
    "deletable": true,
    "editable": true
   },
   "outputs": [
    {
     "name": "stdout",
     "output_type": "stream",
     "text": [
      "[{'intent': 'saldo', 'confidence': 1.0}]\n"
     ]
    }
   ],
   "source": [
    "def classify(input):\n",
    "    tokens = tokenize(input);\n",
    "    #print (\"tokens\", tokens);\n",
    "    intents = {}\n",
    "    for intent, samples in intent_model.items():\n",
    "        intents[intent] = 0\n",
    "        for s, smeta in samples.items():\n",
    "            brutal_score = 0\n",
    "            stokens = smeta[\"tokens\"]\n",
    "            for t in tokens:\n",
    "                if t in stokens:\n",
    "                    brutal_score += stokens[t]\n",
    "            score = brutal_score / smeta[\"total\"]\n",
    "            if intents[intent] < score:\n",
    "                intents[intent] = score\n",
    "            \n",
    "    intents = [{\n",
    "        \"intent\": intent,\n",
    "        \"confidence\": intents[intent]\n",
    "    } for intent in sorted(intents, key=intents.__getitem__, reverse = True)]\n",
    "    \n",
    "    intents = list(filter(lambda i: i[\"confidence\"] > 0, intents))\n",
    "    \n",
    "    return intents[:10];\n",
    "\n",
    "print(classify(\"Qual meu saldo?\"))"
   ]
  },
  {
   "cell_type": "code",
   "execution_count": 7,
   "metadata": {
    "collapsed": true,
    "deletable": true,
    "editable": true
   },
   "outputs": [],
   "source": [
    "def nlp(input):\n",
    "    return [];"
   ]
  },
  {
   "cell_type": "code",
   "execution_count": 8,
   "metadata": {
    "collapsed": false,
    "deletable": true,
    "editable": true
   },
   "outputs": [],
   "source": [
    "def evalCondition(condition, context, intent, entities):\n",
    "    return condition == '#' + intent;"
   ]
  },
  {
   "cell_type": "code",
   "execution_count": 9,
   "metadata": {
    "collapsed": true,
    "deletable": true,
    "editable": true
   },
   "outputs": [],
   "source": [
    "def dialog(input, context, intents, entities):\n",
    "    if input == \"\":\n",
    "        return dialog_welcome;\n",
    "    \n",
    "    if len(intents) > 0:\n",
    "        intent = intents[0][\"intent\"];\n",
    "        for dialog_node in dialog_nodes:\n",
    "            if evalCondition(dialog_node[\"condition\"], context, intent, entities):\n",
    "                return dialog_node;\n",
    "    \n",
    "    return dialog_anythinelse;"
   ]
  },
  {
   "cell_type": "code",
   "execution_count": 10,
   "metadata": {
    "collapsed": true,
    "deletable": true,
    "editable": true
   },
   "outputs": [],
   "source": [
    "def respond(input, context = {}):\n",
    "    intents = classify(input)\n",
    "    entities = nlp(input)\n",
    "    #print(\"intents\", intents)\n",
    "    dialog_node = dialog(input, context, intents, entities)\n",
    "    return {\n",
    "        \"context\": context,\n",
    "        \"intents\": intents,\n",
    "        \"entities\": entities,\n",
    "        \"output\": dialog_node[\"output\"]\n",
    "    }"
   ]
  },
  {
   "cell_type": "code",
   "execution_count": 11,
   "metadata": {
    "collapsed": false,
    "deletable": true,
    "editable": true
   },
   "outputs": [
    {
     "name": "stdout",
     "output_type": "stream",
     "text": [
      "\n",
      "input:    >>  Olá, eu sou o David!\n",
      "\n",
      "input:  Oi  >>  Olá, eu sou o David!\n",
      "\n",
      "input:  Qual meu saldo?  >>  Seu saldo é R$ #.###,##!\n",
      "\n",
      "input:  Quanto tenho na conta?  >>  Seu saldo é R$ #.###,##!\n",
      "\n",
      "input:  Extrato da conta  >>  Segue seu extrato!!!\n",
      "\n",
      "input:  link pra receber  >>  Segue o link!\n",
      "\n",
      "input:  Horário das agências  >>  Desculpe, não entendi! Pode falar de outra forma?\n",
      "\n",
      "input:  recarregar celular  >>  Celular recarregado!\n",
      "\n",
      "input:  Então tchau  >>  Muito obrigado pela atenção! Precisando estou por aqui!\n"
     ]
    }
   ],
   "source": [
    "def test_respond(input):\n",
    "    resp = respond(input);\n",
    "    #print(\"\\n\\nresp\", resp);\n",
    "    print(\"\\ninput: \", input, \" >> \", resp[\"output\"][\"text\"]);\n",
    "\n",
    "test_respond(\"\");\n",
    "test_respond(\"Oi\");\n",
    "test_respond(\"Qual meu saldo?\");\n",
    "test_respond(\"Quanto tenho na conta?\");\n",
    "test_respond(\"Extrato da conta\");\n",
    "test_respond(\"link pra receber\");\n",
    "test_respond(\"Horário das agências\");\n",
    "test_respond(\"recarregar celular\");\n",
    "test_respond(\"Então tchau\");"
   ]
  }
 ],
 "metadata": {
  "kernelspec": {
   "display_name": "Python 3",
   "language": "python",
   "name": "python3"
  },
  "language_info": {
   "codemirror_mode": {
    "name": "ipython",
    "version": 3
   },
   "file_extension": ".py",
   "mimetype": "text/x-python",
   "name": "python",
   "nbconvert_exporter": "python",
   "pygments_lexer": "ipython3",
   "version": "3.4.3"
  }
 },
 "nbformat": 4,
 "nbformat_minor": 2
}
