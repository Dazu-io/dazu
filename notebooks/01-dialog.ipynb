{
 "cells": [
  {
   "cell_type": "code",
   "execution_count": 51,
   "metadata": {
    "collapsed": false,
    "deletable": true,
    "editable": true
   },
   "outputs": [
    {
     "name": "stdout",
     "output_type": "stream",
     "text": [
      "{'intents': {'extrato': ['Extrato da conta corrente'], 'despedida': ['tchau', 'Até mais!'], 'saudacao': ['Oi', 'Olá'], 'recarregar-celular': ['Quero recarregar meu celular!'], 'saldo': ['Qual é meu saldo?', 'Quanto tenho na conta?', 'Saldo da conta corrente', 'Quantas pilas eu tenho?', 'Qual é o saldo da minha conta?'], 'transferir': ['Transferir dinheiro']}}\n"
     ]
    }
   ],
   "source": [
    "know = {\n",
    "    \"intents\" : {\n",
    "        \"saudacao\" : [\n",
    "            \"Oi\", \"Olá\"\n",
    "        ],\n",
    "        \"despedida\" : [\n",
    "            \"tchau\", \"Até mais!\"\n",
    "        ],\n",
    "        \"saldo\" : [\n",
    "            \"Qual é meu saldo?\", \"Quanto tenho na conta?\", \"Saldo da conta corrente\", \"Quantas pilas eu tenho?\", \"Qual é o saldo da minha conta?\"\n",
    "        ],\n",
    "        \"extrato\" : [\n",
    "            \"Extrato da conta corrente\"\n",
    "        ],\n",
    "        \"recarregar-celular\" : [\n",
    "            \"Quero recarregar meu celular!\"\n",
    "        ],\n",
    "        \"transferir\" : [\n",
    "            \"Transferir dinheiro\"\n",
    "        ]\n",
    "    }\n",
    "}\n",
    "print(know);"
   ]
  },
  {
   "cell_type": "code",
   "execution_count": 20,
   "metadata": {
    "collapsed": false,
    "deletable": true,
    "editable": true
   },
   "outputs": [
    {
     "name": "stdout",
     "output_type": "stream",
     "text": [
      "[{'condition': '#saudacao', 'output': {'text': 'Olá, eu sou o David!'}}, {'condition': '#despedida', 'output': {'text': 'Muito obrigado pela atenção! Precisando estou por aqui!'}}, {'condition': '#saldo', 'output': {'text': 'Seu saldo é R$ #.###,##!'}}, {'condition': '#extrato', 'output': {'text': 'Segue seu extrato!!!'}}, {'condition': '#recarregar-celular', 'output': {'text': 'Celular recarregado!'}}, {'condition': '#transferir', 'output': {'text': 'Dinheiro transferido!'}}, {'condition': 'true', 'output': {'text': 'Desculpe, não entendi! Pode falar de outra forma?'}}]\n"
     ]
    }
   ],
   "source": [
    "dialog_welcome = {\n",
    "    \"condition\": \"#saudacao\",\n",
    "    \"output\": {\n",
    "        \"text\": \"Olá, eu sou o David!\"\n",
    "    }\n",
    "}\n",
    "\n",
    "dialog_nodes = [dialog_welcome,{\n",
    "    \"condition\": \"#despedida\",\n",
    "    \"output\": {\n",
    "        \"text\": \"Muito obrigado pela atenção! Precisando estou por aqui!\"\n",
    "    } \n",
    "}, {\n",
    "    \"condition\": \"#saldo\",\n",
    "    \"output\": {\n",
    "        \"text\": \"Seu saldo é R$ #.###,##!\"\n",
    "    } \n",
    "},{\n",
    "    \"condition\": \"#extrato\",\n",
    "    \"output\": {\n",
    "        \"text\": \"Segue seu extrato!!!\"\n",
    "    } \n",
    "},{\n",
    "    \"condition\": \"#recarregar-celular\",\n",
    "    \"output\": {\n",
    "        \"text\": \"Celular recarregado!\"\n",
    "    } \n",
    "},{\n",
    "    \"condition\": \"#transferir\",\n",
    "    \"output\": {\n",
    "        \"text\": \"Dinheiro transferido!\"\n",
    "    } \n",
    "}]\n",
    "\n",
    "dialog_anythinelse = { \n",
    "    \"condition\" : \"true\",\n",
    "    \"output\": {\n",
    "        \"text\": \"Desculpe, não entendi! Pode falar de outra forma?\"\n",
    "    }\n",
    "}\n",
    "\n",
    "dialog_nodes.append(dialog_anythinelse)\n",
    "\n",
    "print(dialog_nodes);"
   ]
  },
  {
   "cell_type": "code",
   "execution_count": 44,
   "metadata": {
    "collapsed": false,
    "deletable": true,
    "editable": true
   },
   "outputs": [],
   "source": [
    "stopwords = set(line.strip() for line in open('stopwords.txt', 'r', encoding='utf-8'))"
   ]
  },
  {
   "cell_type": "code",
   "execution_count": 42,
   "metadata": {
    "collapsed": false,
    "deletable": true,
    "editable": true
   },
   "outputs": [
    {
     "name": "stdout",
     "output_type": "stream",
     "text": [
      "['saldo']\n"
     ]
    }
   ],
   "source": [
    "import re\n",
    "\n",
    "NON_CONTENT = r\"[^\\w\\d\\s]\"\n",
    "def tokenize(sentence):\n",
    "    #remove non content\n",
    "    sentence = re.sub(NON_CONTENT, \"\", sentence)\n",
    "    #lower\n",
    "    sentence = sentence.lower();\n",
    "    \n",
    "    #split\n",
    "    tokens = sentence.split(\" \");\n",
    "        \n",
    "    for sw in stopwords:\n",
    "        try:\n",
    "            tokens.remove(sw); \n",
    "        except ValueError:\n",
    "            pass\n",
    "    \n",
    "    return tokens;\n",
    "\n",
    "print(tokenize(\"Qual é o meu saldo?\"))"
   ]
  },
  {
   "cell_type": "code",
   "execution_count": 52,
   "metadata": {
    "collapsed": false,
    "deletable": true,
    "editable": true
   },
   "outputs": [
    {
     "name": "stdout",
     "output_type": "stream",
     "text": [
      "intent_model: {'extrato': {'tokens': {'extrato': 1, 'conta': 1}, 'total': 2}, 'despedida': {'tokens': {'tchau': 1}, 'total': 1}, 'saudacao': {'tokens': {'olá': 1, 'oi': 1}, 'total': 2}, 'recarregar-celular': {'tokens': {'recarregar': 1, 'celular': 1}, 'total': 2}, 'saldo': {'tokens': {'saldo': 3, 'conta': 3, 'pilas': 1}, 'total': 7}, 'transferir': {'tokens': {'dinheiro': 1, 'transferir': 1}, 'total': 2}}\n"
     ]
    }
   ],
   "source": [
    "intent_model = {}\n",
    "\n",
    "for intent, samples in know[\"intents\"].items():\n",
    "    intent_model[intent] = {\n",
    "        \"total\" : 0,\n",
    "        \"tokens\" : {}\n",
    "    }\n",
    "    for sample in samples: \n",
    "        for t in tokenize(sample):\n",
    "            intent_model[intent][\"total\"] += 1;\n",
    "            if t in intent_model[intent][\"tokens\"]:\n",
    "                intent_model[intent][\"tokens\"][t] += 1;\n",
    "            else:\n",
    "                intent_model[intent][\"tokens\"][t] = 1;\n",
    "    \n",
    "print(\"intent_model:\", intent_model);    "
   ]
  },
  {
   "cell_type": "code",
   "execution_count": 47,
   "metadata": {
    "collapsed": false,
    "deletable": true,
    "editable": true
   },
   "outputs": [
    {
     "name": "stdout",
     "output_type": "stream",
     "text": [
      "[{'confidence': 0.4, 'intent': 'saldo'}]\n"
     ]
    }
   ],
   "source": [
    "def classify(input):\n",
    "    tokens = tokenize(input);\n",
    "    #print (\"tokens\", tokens);\n",
    "    intents = {}\n",
    "    for intent, imeta in intent_model.items(): \n",
    "        brutal_score = 0\n",
    "        itokens = imeta[\"tokens\"]\n",
    "        for t in tokens:\n",
    "            if t in itokens:\n",
    "                brutal_score += itokens[t]\n",
    "        intents[intent] = brutal_score / imeta[\"total\"]       \n",
    "    \n",
    "    intents = [{\n",
    "        \"intent\": intent,\n",
    "        \"confidence\": intents[intent]\n",
    "    } for intent in sorted(intents, key=intents.__getitem__, reverse = True)]\n",
    "    \n",
    "    intents = list(filter(lambda i: i[\"confidence\"] > 0, intents))\n",
    "    \n",
    "    return intents[:10];\n",
    "\n",
    "print(classify(\"Qual meu saldo?\"))"
   ]
  },
  {
   "cell_type": "code",
   "execution_count": 6,
   "metadata": {
    "collapsed": true,
    "deletable": true,
    "editable": true
   },
   "outputs": [],
   "source": [
    "def nlp(input):\n",
    "    return [];"
   ]
  },
  {
   "cell_type": "code",
   "execution_count": 7,
   "metadata": {
    "collapsed": false,
    "deletable": true,
    "editable": true
   },
   "outputs": [],
   "source": [
    "def evalCondition(condition, context, intent, entities):\n",
    "    return condition == '#' + intent;"
   ]
  },
  {
   "cell_type": "code",
   "execution_count": 8,
   "metadata": {
    "collapsed": true,
    "deletable": true,
    "editable": true
   },
   "outputs": [],
   "source": [
    "def dialog(input, context, intents, entities):\n",
    "    if input == \"\":\n",
    "        return dialog_welcome;\n",
    "    \n",
    "    if len(intents) > 0:\n",
    "        intent = intents[0][\"intent\"];\n",
    "        for dialog_node in dialog_nodes:\n",
    "            if evalCondition(dialog_node[\"condition\"], context, intent, entities):\n",
    "                return dialog_node;\n",
    "    \n",
    "    return dialog_anythinelse;"
   ]
  },
  {
   "cell_type": "code",
   "execution_count": 9,
   "metadata": {
    "collapsed": true,
    "deletable": true,
    "editable": true
   },
   "outputs": [],
   "source": [
    "def respond(input, context = {}):\n",
    "    intents = classify(input)\n",
    "    entities = nlp(input)\n",
    "    #print(\"intents\", intents)\n",
    "    dialog_node = dialog(input, context, intents, entities)\n",
    "    return {\n",
    "        \"context\": context,\n",
    "        \"intents\": intents,\n",
    "        \"entities\": entities,\n",
    "        \"output\": dialog_node[\"output\"]\n",
    "    }"
   ]
  },
  {
   "cell_type": "code",
   "execution_count": 54,
   "metadata": {
    "collapsed": false,
    "deletable": true,
    "editable": true
   },
   "outputs": [
    {
     "name": "stdout",
     "output_type": "stream",
     "text": [
      "\n",
      "input:    >>  Olá, eu sou o David!\n",
      "\n",
      "input:  Oi  >>  Olá, eu sou o David!\n",
      "\n",
      "input:  Qual meu saldo?  >>  Seu saldo é R$ #.###,##!\n",
      "\n",
      "input:  Quanto tenho na conta?  >>  Segue seu extrato!!!\n",
      "\n",
      "input:  Extrato da conta  >>  Segue seu extrato!!!\n",
      "\n",
      "input:  link pra receber  >>  Desculpe, não entendi! Pode falar de outra forma?\n",
      "\n",
      "input:  tchau  >>  Muito obrigado pela atenção! Precisando estou por aqui!\n"
     ]
    }
   ],
   "source": [
    "def test_respond(input):\n",
    "    resp = respond(input);\n",
    "    #print(\"\\n\\nresp\", resp);\n",
    "    print(\"\\ninput: \", input, \" >> \", resp[\"output\"][\"text\"]);\n",
    "\n",
    "test_respond(\"\");\n",
    "test_respond(\"Oi\");\n",
    "test_respond(\"Qual meu saldo?\");\n",
    "test_respond(\"Quanto tenho na conta?\");\n",
    "test_respond(\"Extrato da conta\");\n",
    "test_respond(\"link pra receber\");\n",
    "test_respond(\"tchau\");"
   ]
  }
 ],
 "metadata": {
  "kernelspec": {
   "display_name": "Python 3",
   "language": "python",
   "name": "python3"
  },
  "language_info": {
   "codemirror_mode": {
    "name": "ipython",
    "version": 3
   },
   "file_extension": ".py",
   "mimetype": "text/x-python",
   "name": "python",
   "nbconvert_exporter": "python",
   "pygments_lexer": "ipython3",
   "version": "3.4.3"
  }
 },
 "nbformat": 4,
 "nbformat_minor": 2
}
