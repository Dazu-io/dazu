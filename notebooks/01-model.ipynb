{
 "cells": [
  {
   "cell_type": "code",
   "execution_count": 1,
   "metadata": {
    "collapsed": false,
    "deletable": true,
    "editable": true
   },
   "outputs": [
    {
     "name": "stdout",
     "output_type": "stream",
     "text": [
      "{'intents': {'horario-agencias': ['Qual é o horário de funcionamento das agências?'], 'saldo': ['Qual é meu saldo?', 'Quanto tenho na conta?', 'Saldo da conta corrente', 'Quantas pilas eu tenho?', 'Qual é o saldo da minha conta?'], 'extrato': ['Extrato da conta', 'Extrato da conta corrente'], 'transferir': ['Transferir dinheiro'], 'pagar-receber': ['link pra receber'], 'recarregar-celular': ['Quero recarregar meu celular!'], 'saudacao': ['Oi', 'Olá'], 'despedida': ['tchau', 'Até mais!']}}\n"
     ]
    }
   ],
   "source": [
    "import json\n",
    "with open('./input/know.json', encoding='utf-8') as f:\n",
    "    know = json.load(f)\n",
    "print(know);"
   ]
  },
  {
   "cell_type": "code",
   "execution_count": 2,
   "metadata": {
    "collapsed": false,
    "deletable": true,
    "editable": true
   },
   "outputs": [],
   "source": [
    "stopwords = set(line.strip() for line in open('./input/stopwords.txt', 'r', encoding='utf-8'))"
   ]
  },
  {
   "cell_type": "code",
   "execution_count": 3,
   "metadata": {
    "collapsed": false
   },
   "outputs": [
    {
     "name": "stdout",
     "output_type": "stream",
     "text": [
      "['saldo']\n"
     ]
    }
   ],
   "source": [
    "import re\n",
    "\n",
    "NON_CONTENT = r\"[^\\w\\d\\s]\"\n",
    "def tokenize(sentence):\n",
    "    #remove non content\n",
    "    sentence = re.sub(NON_CONTENT, \"\", sentence)\n",
    "    #lower\n",
    "    sentence = sentence.lower();\n",
    "    \n",
    "    #split\n",
    "    tokens = sentence.split(\" \");\n",
    "        \n",
    "    for sw in stopwords:\n",
    "        try:\n",
    "            tokens.remove(sw); \n",
    "        except ValueError:\n",
    "            pass\n",
    "    \n",
    "    return tokens;\n",
    "\n",
    "print(tokenize(\"Qual é o meu saldo?\"))"
   ]
  },
  {
   "cell_type": "code",
   "execution_count": 4,
   "metadata": {
    "collapsed": false,
    "deletable": true,
    "editable": true
   },
   "outputs": [
    {
     "name": "stdout",
     "output_type": "stream",
     "text": [
      "intent_model: {'despedida': {'Até mais!': {'tokens': {'mais': 1, 'até': 1}, 'total': 2}, 'tchau': {'tokens': {'tchau': 1}, 'total': 1}}, 'horario-agencias': {'Qual é o horário de funcionamento das agências?': {'tokens': {'funcionamento': 1, 'das': 1, 'agências': 1, 'de': 1, 'horário': 1}, 'total': 5}}, 'recarregar-celular': {'Quero recarregar meu celular!': {'tokens': {'quero': 1, 'celular': 1, 'recarregar': 1}, 'total': 3}}, 'extrato': {'Extrato da conta': {'tokens': {'extrato': 1, 'conta': 1}, 'total': 2}, 'Extrato da conta corrente': {'tokens': {'corrente': 1, 'extrato': 1, 'conta': 1}, 'total': 3}}, 'pagar-receber': {'link pra receber': {'tokens': {'receber': 1, 'pra': 1, 'link': 1}, 'total': 3}}, 'saldo': {'Qual é meu saldo?': {'tokens': {'saldo': 1}, 'total': 1}, 'Quanto tenho na conta?': {'tokens': {'tenho': 1, 'conta': 1}, 'total': 2}, 'Qual é o saldo da minha conta?': {'tokens': {'minha': 1, 'saldo': 1, 'conta': 1}, 'total': 3}, 'Saldo da conta corrente': {'tokens': {'saldo': 1, 'conta': 1, 'corrente': 1}, 'total': 3}, 'Quantas pilas eu tenho?': {'tokens': {'tenho': 1, 'pilas': 1}, 'total': 2}}, 'saudacao': {'Olá': {'tokens': {'olá': 1}, 'total': 1}, 'Oi': {'tokens': {'oi': 1}, 'total': 1}}, 'transferir': {'Transferir dinheiro': {'tokens': {'dinheiro': 1, 'transferir': 1}, 'total': 2}}}\n"
     ]
    }
   ],
   "source": [
    "intent_model = {}\n",
    "\n",
    "for intent, samples in know[\"intents\"].items():\n",
    "    intent_model[intent] = {}\n",
    "    for sample in samples:\n",
    "        intent_model[intent][sample] = {\n",
    "            \"total\" : 0,\n",
    "            \"tokens\" : {}\n",
    "        }\n",
    "        for t in tokenize(sample):\n",
    "            intent_model[intent][sample][\"total\"] += 1;\n",
    "            if t in intent_model[intent][sample][\"tokens\"]:\n",
    "                intent_model[intent][sample][\"tokens\"][t] += 1;\n",
    "            else:\n",
    "                intent_model[intent][sample][\"tokens\"][t] = 1;\n",
    "\n",
    "import json\n",
    "with open('./output/intent_model.json', 'w', encoding='utf-8') as outfile:\n",
    "    json.dump(intent_model, outfile)\n",
    "    \n",
    "print(\"intent_model:\", intent_model);    "
   ]
  }
 ],
 "metadata": {
  "kernelspec": {
   "display_name": "Python 3",
   "language": "python",
   "name": "python3"
  },
  "language_info": {
   "codemirror_mode": {
    "name": "ipython",
    "version": 3
   },
   "file_extension": ".py",
   "mimetype": "text/x-python",
   "name": "python",
   "nbconvert_exporter": "python",
   "pygments_lexer": "ipython3",
   "version": "3.4.3"
  }
 },
 "nbformat": 4,
 "nbformat_minor": 2
}
